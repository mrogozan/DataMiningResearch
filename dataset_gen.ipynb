{
 "cells": [
  {
   "cell_type": "code",
   "execution_count": 1,
   "id": "980a5d42",
   "metadata": {},
   "outputs": [],
   "source": [
    "import numpy as np\n",
    "import pandas as pd\n",
    "import random as r\n",
    "import itertools as it\n"
   ]
  },
  {
   "cell_type": "code",
   "execution_count": null,
   "id": "52a5f08f",
   "metadata": {},
   "outputs": [],
   "source": [
    "\n",
    "def generate_dataset(params=None, simulation_params=None):\n",
    "\n",
    "    covs, cov_names = sample_covs(N=simulation_params['N'], ncovs=simulation_params['ncovs'], p=simulation_params['p'])\n",
    "\n",
    "    df = covs.copy()\n",
    "    df[simulation_params['trend_name']] = np.random.normal(loc=10.0, scale=1.0, size=simulation_params['N'])\n",
    "\n",
    "    #print(df.head(20))\n",
    "    true_description = find_true_description(nlits=params[2], ncovs=simulation_params['ncovs'])\n",
    "    #print(true_description)\n",
    "\n",
    "    # generate subgroup\n",
    "    dataset = generate_subgroup(df=df, true_description=true_description, dist=params[0], sd=params[1], simulation_params=simulation_params)    \n",
    "    dataset_ordered, attributes, descriptives = define_attributes(dataset=dataset, cov_names=cov_names, simulation_params=simulation_params)\n",
    "\n",
    "    #print(dataset_ordered)\n",
    "\n",
    "    return dataset_ordered, attributes, descriptives, true_description\n"
   ]
  },
  {
   "cell_type": "code",
   "execution_count": null,
   "id": "7d39e8b0",
   "metadata": {},
   "outputs": [],
   "source": [
    "\n",
    "def define_attributes(dataset=None, cov_names=None, simulation_params=None):\n",
    "\n",
    "    dataset['tp'] = r.choices(list(np.arange(1,simulation_params['tp']+1)),k=simulation_params['N'])\n",
    "    data_sorted = dataset.sort_values(['tp'], ascending=[True])\n",
    "    data_sorted['id'] = np.arange(len(data_sorted))\n",
    "\n",
    "    #print(data_sorted.head(20))\n",
    "\n",
    "    descriptives = {'num_atts': [], 'bin_atts': cov_names, \n",
    "                    'nom_atts': [], 'ord_atts': []}\n",
    "    attributes = {'time_attribute': ['tp'], 'skip_attributes': [],\n",
    "                  'id_attribute': ['id'], 'outcome_attribute': [simulation_params['trend_name']]}\n",
    "\n",
    "    return data_sorted, attributes, descriptives\n"
   ]
  },
  {
   "cell_type": "code",
   "execution_count": null,
   "id": "61185ff0",
   "metadata": {},
   "outputs": [],
   "source": [
    "\n",
    "def generate_subgroup(df=None, true_description=None, dist=None, sd=None, simulation_params=None):\n",
    "\n",
    "    dataset = df.copy()\n",
    "    desc = true_description\n",
    "\n",
    "    # select cov_names based on desc\n",
    "    mask = (dataset[list(desc.keys())] == pd.Series(desc)).all(axis=1)\n",
    "    #print(np.sum(mask))\n",
    "\n",
    "    n = np.sum(mask)\n",
    "    trend_values = np.random.normal(loc=10.0+dist, scale=sd, size=n)\n",
    "    dataset.loc[mask, simulation_params['trend_name']] = trend_values \n",
    "\n",
    "    return dataset\n",
    "\n"
   ]
  },
  {
   "cell_type": "code",
   "execution_count": null,
   "id": "d3aac52f",
   "metadata": {},
   "outputs": [],
   "source": [
    "def sample_covs(N=None, ncovs=None, p=None):\n",
    "\n",
    "    # sample covariates\n",
    "    covs = pd.DataFrame()\n",
    "    for cov in np.arange(1,ncovs+1):\n",
    "        covs['x' + str(cov)] = np.random.binomial(n=1, p=p, size=N)\n",
    "\n",
    "    cov_names = ['x' + str(k) for k in np.arange(1,ncovs+1)]\n",
    "\n",
    "    return covs, cov_names\n",
    "\n"
   ]
  },
  {
   "cell_type": "code",
   "execution_count": null,
   "id": "0a2e76a2",
   "metadata": {},
   "outputs": [],
   "source": [
    "def find_true_description(nlits=None, ncovs=None):\n",
    "   \n",
    "    true_description = {}\n",
    "    # randomly choose covs from entire list\n",
    "    # number of lits is determined by params[2]\n",
    "    lits = r.sample(list(np.arange(1,ncovs+1)),nlits) # returns list\n",
    "    for l in lits:\n",
    "        true_description['x' + str(l)] = 1\n",
    "\n",
    "    return true_description\n",
    "\n"
   ]
  },
  {
   "cell_type": "code",
   "execution_count": null,
   "id": "7b8ea587",
   "metadata": {},
   "outputs": [],
   "source": [
    "def process_result(result_emm=None, true_description=None):\n",
    "\n",
    "    #print(true_description)\n",
    "    vars = list(true_description.keys())\n",
    "    for var in vars:\n",
    "        if var not in result_emm:\n",
    "            result_emm[var] = np.nan\n",
    "\n",
    "    cols = result_emm.dtypes.index\n",
    "    covs = cols[cols.str.startswith('x')]\n",
    "    descriptions = result_emm.loc['description', covs]\n",
    "    descriptions.reset_index(drop=True,inplace=True)\n",
    "    descriptions.fillna(value=999,inplace=True)\n",
    "    #stack = descriptions.stack()\n",
    "    #stack[pd.isnull(stack)] = 999\n",
    "    #descriptions = stack.unstack()\n",
    "    #descriptions[pd.isnull(descriptions)] = 999\n",
    "    #print(descriptions)\n",
    "\n",
    "    all_covs = {k: 999 for k in covs}\n",
    "    for lit in vars:\n",
    "        all_covs[lit] = [1]\n",
    "    \n",
    "    \n",
    "    equal = descriptions.apply(lambda row: row == pd.Series(all_covs), axis=1)\n",
    "\n",
    "    quals = result_emm.loc['qualities', :] \n",
    "    quals.reset_index(drop=True,inplace=True)\n",
    "    sel_qual = quals.loc[equal.all(axis=1)]\n",
    "\n",
    "    result = {}\n",
    "    if len(sel_qual) > 0:    \n",
    "        result['quality_value'] = sel_qual['qm_value'].values[0]\n",
    "        result['rank'] = sel_qual['sg'].values[0] + 1\n",
    "        result['size'] = sel_qual['sg_size'].values[0]\n",
    "    else:\n",
    "        result['quality_value'] = 0\n",
    "        result['rank'] = 51\n",
    "        result['size'] = 0\n",
    "\n",
    "    return result"
   ]
  }
 ],
 "metadata": {
  "kernelspec": {
   "display_name": "Python 3 (ipykernel)",
   "language": "python",
   "name": "python3"
  },
  "language_info": {
   "codemirror_mode": {
    "name": "ipython",
    "version": 3
   },
   "file_extension": ".py",
   "mimetype": "text/x-python",
   "name": "python",
   "nbconvert_exporter": "python",
   "pygments_lexer": "ipython3",
   "version": "3.11.5"
  }
 },
 "nbformat": 4,
 "nbformat_minor": 5
}
