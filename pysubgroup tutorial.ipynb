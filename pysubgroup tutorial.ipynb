{
 "cells": [
  {
   "cell_type": "code",
   "execution_count": 2,
   "id": "cc81ebd6",
   "metadata": {},
   "outputs": [
    {
     "name": "stdout",
     "output_type": "stream",
     "text": [
      "Collecting pysubgroup\n",
      "  Obtaining dependency information for pysubgroup from https://files.pythonhosted.org/packages/c5/43/25c7f35aa880c00b8662dd5a9fb588e0bcbce54a45231f567a45d182ddf9/pysubgroup-0.8.0-py3-none-any.whl.metadata\n",
      "  Downloading pysubgroup-0.8.0-py3-none-any.whl.metadata (11 kB)\n",
      "Requirement already satisfied: pandas>=0.24.0 in c:\\users\\20200604\\appdata\\roaming\\python\\python311\\site-packages (from pysubgroup) (1.5.3)\n",
      "Requirement already satisfied: scipy in c:\\users\\20200604\\appdata\\local\\anaconda3\\lib\\site-packages (from pysubgroup) (1.11.1)\n",
      "Requirement already satisfied: numpy in c:\\users\\20200604\\appdata\\local\\anaconda3\\lib\\site-packages (from pysubgroup) (1.24.3)\n",
      "Requirement already satisfied: matplotlib in c:\\users\\20200604\\appdata\\local\\anaconda3\\lib\\site-packages (from pysubgroup) (3.7.2)\n",
      "Requirement already satisfied: python-dateutil>=2.8.1 in c:\\users\\20200604\\appdata\\local\\anaconda3\\lib\\site-packages (from pandas>=0.24.0->pysubgroup) (2.8.2)\n",
      "Requirement already satisfied: pytz>=2020.1 in c:\\users\\20200604\\appdata\\local\\anaconda3\\lib\\site-packages (from pandas>=0.24.0->pysubgroup) (2023.3.post1)\n",
      "Requirement already satisfied: contourpy>=1.0.1 in c:\\users\\20200604\\appdata\\local\\anaconda3\\lib\\site-packages (from matplotlib->pysubgroup) (1.0.5)\n",
      "Requirement already satisfied: cycler>=0.10 in c:\\users\\20200604\\appdata\\local\\anaconda3\\lib\\site-packages (from matplotlib->pysubgroup) (0.11.0)\n",
      "Requirement already satisfied: fonttools>=4.22.0 in c:\\users\\20200604\\appdata\\local\\anaconda3\\lib\\site-packages (from matplotlib->pysubgroup) (4.25.0)\n",
      "Requirement already satisfied: kiwisolver>=1.0.1 in c:\\users\\20200604\\appdata\\local\\anaconda3\\lib\\site-packages (from matplotlib->pysubgroup) (1.4.4)\n",
      "Requirement already satisfied: packaging>=20.0 in c:\\users\\20200604\\appdata\\local\\anaconda3\\lib\\site-packages (from matplotlib->pysubgroup) (23.1)\n",
      "Requirement already satisfied: pillow>=6.2.0 in c:\\users\\20200604\\appdata\\local\\anaconda3\\lib\\site-packages (from matplotlib->pysubgroup) (9.4.0)\n",
      "Requirement already satisfied: pyparsing<3.1,>=2.3.1 in c:\\users\\20200604\\appdata\\local\\anaconda3\\lib\\site-packages (from matplotlib->pysubgroup) (3.0.9)\n",
      "Requirement already satisfied: six>=1.5 in c:\\users\\20200604\\appdata\\local\\anaconda3\\lib\\site-packages (from python-dateutil>=2.8.1->pandas>=0.24.0->pysubgroup) (1.16.0)\n",
      "Downloading pysubgroup-0.8.0-py3-none-any.whl (70 kB)\n",
      "   ---------------------------------------- 0.0/70.5 kB ? eta -:--:--\n",
      "   ----- ---------------------------------- 10.2/70.5 kB ? eta -:--:--\n",
      "   ----------------------- ---------------- 41.0/70.5 kB 487.6 kB/s eta 0:00:01\n",
      "   ---------------------------------------- 70.5/70.5 kB 763.3 kB/s eta 0:00:00\n",
      "Installing collected packages: pysubgroup\n",
      "Successfully installed pysubgroup-0.8.0\n"
     ]
    }
   ],
   "source": [
    "!pip install pysubgroup"
   ]
  },
  {
   "cell_type": "code",
   "execution_count": 3,
   "id": "d51f8661",
   "metadata": {},
   "outputs": [],
   "source": [
    "import pysubgroup as ps"
   ]
  },
  {
   "cell_type": "markdown",
   "id": "e677f07c",
   "metadata": {},
   "source": [
    "## Explanation\n",
    "The first line imports pysubgroup package. The following lines load an example dataset (the popular titanic dataset).\n",
    "\n",
    "Therafter, we define a target, i.e., the property we are mainly interested in (_'survived'}. Then, we define the searchspace as a list of basic selectors. Descriptions are built from this searchspace. We can create this list manually, or use an utility function. Next, we create a SubgroupDiscoveryTask object that encapsulates what we want to find in our search. In particular, that comprises the target, the search space, the depth of the search (maximum numbers of selectors combined in a subgroup description), and the interestingness measure for candidate scoring (here, the Weighted Relative Accuracy measure).\n",
    "\n",
    "The last line executes the defined task by performing a search with an algorithm---in this case depth first search. The result of this algorithm execution is stored in a SubgroupDiscoveryResults object."
   ]
  },
  {
   "cell_type": "code",
   "execution_count": 4,
   "id": "911430c5",
   "metadata": {},
   "outputs": [],
   "source": [
    "# Load the example dataset\n",
    "from pysubgroup.datasets import get_titanic_data\n",
    "data = get_titanic_data()\n",
    "\n",
    "target = ps.BinaryTarget ('Survived', True)\n",
    "searchspace = ps.create_selectors(data, ignore=['Survived'])\n",
    "task = ps.SubgroupDiscoveryTask (\n",
    "    data,\n",
    "    target,\n",
    "    searchspace,\n",
    "    result_set_size=5,\n",
    "    depth=2,\n",
    "    qf=ps.WRAccQF())\n",
    "result = ps.DFS().execute(task)"
   ]
  },
  {
   "cell_type": "code",
   "execution_count": 5,
   "id": "11abbcdf",
   "metadata": {},
   "outputs": [
    {
     "name": "stdout",
     "output_type": "stream",
     "text": [
      "    quality                          subgroup  size_sg  size_dataset  \\\n",
      "0  0.132150                     Sex=='female'       56           156   \n",
      "1  0.101331        Parch==0 AND Sex=='female'       41           156   \n",
      "2  0.079142    Sex=='female' AND SibSp: [0:1[       25           156   \n",
      "3  0.077663  Cabin.isnull() AND Sex=='female'       43           156   \n",
      "4  0.071746   Embarked=='S' AND Sex=='female'       37           156   \n",
      "\n",
      "   positives_sg  positives_dataset  size_complement  relative_size_sg  \\\n",
      "0            40                 54              100          0.358974   \n",
      "1            30                 54              115          0.262821   \n",
      "2            21                 54              131          0.160256   \n",
      "3            27                 54              113          0.275641   \n",
      "4            24                 54              119          0.237179   \n",
      "\n",
      "   relative_size_complement  coverage_sg  coverage_complement  \\\n",
      "0                  0.641026     0.740741             0.259259   \n",
      "1                  0.737179     0.555556             0.444444   \n",
      "2                  0.839744     0.388889             0.611111   \n",
      "3                  0.724359     0.500000             0.500000   \n",
      "4                  0.762821     0.444444             0.555556   \n",
      "\n",
      "   target_share_sg  target_share_complement  target_share_dataset      lift  \n",
      "0         0.714286                 0.140000              0.346154  2.063492  \n",
      "1         0.731707                 0.208696              0.346154  2.113821  \n",
      "2         0.840000                 0.251908              0.346154  2.426667  \n",
      "3         0.627907                 0.238938              0.346154  1.813953  \n",
      "4         0.648649                 0.252101              0.346154  1.873874  \n"
     ]
    }
   ],
   "source": [
    "print(result.to_dataframe())"
   ]
  },
  {
   "cell_type": "markdown",
   "id": "a72ed8e2",
   "metadata": {},
   "source": [
    "## Key classes\n",
    "\n",
    "Here is an outline on the most important classes:\n",
    "\n",
    "Selector: A Selector represents an atomic condition over the data, e.g., age < 50. There several subtypes of Selectors, i.e., NominalSelector (color==BLUE), NumericSelector (age < 50) and NegatedSelector (a wrapper such as not selector1)\n",
    "SubgroupDiscoveryTask: As mentioned before, encapsulates the specification of how an algorithm should search for interesting subgroups\n",
    "SubgroupDicoveryResult: These are the main outcome of a subgroup disovery run. You can obtain a list of subgroups using the to_subgroups() or to a dataframe using to_dataframe()\n",
    "Conjunction: A conjunction is the most widely used SubgroupDescription, and indicates which data instances are covered by the subgroup. It can be seen as the left hand side of a rule."
   ]
  },
  {
   "cell_type": "code",
   "execution_count": 6,
   "id": "8d93bbb6",
   "metadata": {},
   "outputs": [
    {
     "name": "stdout",
     "output_type": "stream",
     "text": [
      "     PassengerId  Survived  Pclass  \\\n",
      "0              1         0       3   \n",
      "1              2         1       1   \n",
      "2              3         1       3   \n",
      "3              4         1       1   \n",
      "4              5         0       3   \n",
      "..           ...       ...     ...   \n",
      "151          152         1       1   \n",
      "152          153         0       3   \n",
      "153          154         0       3   \n",
      "154          155         0       3   \n",
      "155          156         0       1   \n",
      "\n",
      "                                                  Name     Sex   Age  SibSp  \\\n",
      "0                              Braund, Mr. Owen Harris    male  22.0      1   \n",
      "1    Cumings, Mrs. John Bradley (Florence Briggs Th...  female  38.0      1   \n",
      "2                               Heikkinen, Miss. Laina  female  26.0      0   \n",
      "3         Futrelle, Mrs. Jacques Heath (Lily May Peel)  female  35.0      1   \n",
      "4                             Allen, Mr. William Henry    male  35.0      0   \n",
      "..                                                 ...     ...   ...    ...   \n",
      "151                  Pears, Mrs. Thomas (Edith Wearne)  female  22.0      1   \n",
      "152                                   Meo, Mr. Alfonzo    male  55.5      0   \n",
      "153                    van Billiard, Mr. Austin Blyler    male  40.5      0   \n",
      "154                              Olsen, Mr. Ole Martin    male   NaN      0   \n",
      "155                        Williams, Mr. Charles Duane    male  51.0      0   \n",
      "\n",
      "     Parch            Ticket     Fare Cabin Embarked  \n",
      "0        0         A/5 21171   7.2500   NaN        S  \n",
      "1        0          PC 17599  71.2833   C85        C  \n",
      "2        0  STON/O2. 3101282   7.9250   NaN        S  \n",
      "3        0            113803  53.1000  C123        S  \n",
      "4        0            373450   8.0500   NaN        S  \n",
      "..     ...               ...      ...   ...      ...  \n",
      "151      0            113776  66.6000    C2        S  \n",
      "152      0        A.5. 11206   8.0500   NaN        S  \n",
      "153      2          A/5. 851  14.5000   NaN        S  \n",
      "154      0         Fa 265302   7.3125   NaN        S  \n",
      "155      1          PC 17597  61.3792   NaN        C  \n",
      "\n",
      "[156 rows x 12 columns]\n"
     ]
    }
   ],
   "source": [
    "print(data)"
   ]
  },
  {
   "cell_type": "code",
   "execution_count": null,
   "id": "34b698c1",
   "metadata": {},
   "outputs": [],
   "source": []
  }
 ],
 "metadata": {
  "kernelspec": {
   "display_name": "Python 3 (ipykernel)",
   "language": "python",
   "name": "python3"
  },
  "language_info": {
   "codemirror_mode": {
    "name": "ipython",
    "version": 3
   },
   "file_extension": ".py",
   "mimetype": "text/x-python",
   "name": "python",
   "nbconvert_exporter": "python",
   "pygments_lexer": "ipython3",
   "version": "3.11.5"
  }
 },
 "nbformat": 4,
 "nbformat_minor": 5
}
